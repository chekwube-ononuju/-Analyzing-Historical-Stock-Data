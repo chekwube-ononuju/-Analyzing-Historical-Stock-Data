{
  "nbformat": 4,
  "nbformat_minor": 0,
  "metadata": {
    "colab": {
      "provenance": [],
      "authorship_tag": "ABX9TyP36cw91fA1LlFih99PXKV9",
      "include_colab_link": true
    },
    "kernelspec": {
      "name": "python3",
      "display_name": "Python 3"
    },
    "language_info": {
      "name": "python"
    }
  },
  "cells": [
    {
      "cell_type": "markdown",
      "metadata": {
        "id": "view-in-github",
        "colab_type": "text"
      },
      "source": [
        "<a href=\"https://colab.research.google.com/github/chekwube-ononuju/-Analyzing-Historical-Stock-Data/blob/main/Chekwube_Ononuju_R11872197.ipynb\" target=\"_parent\"><img src=\"https://colab.research.google.com/assets/colab-badge.svg\" alt=\"Open In Colab\"/></a>"
      ]
    },
    {
      "cell_type": "markdown",
      "source": [
        "**Text Classification Assignment:** Distinguishing Human-Written vs. AI-Generated Text<br>\n",
        "**Author:** Chekwube Ononuju<br>\n",
        "**Date:** 06/06/2025"
      ],
      "metadata": {
        "id": "WAPILu1sw0Cp"
      }
    },
    {
      "cell_type": "code",
      "source": [
        "\n",
        "#imports\n",
        "import warnings\n",
        "warnings.filterwarnings(\"ignore\")  # keep the console clean\n",
        "import os\n",
        "import joblib  #to save models\n",
        "import numpy as np\n",
        "import pandas as pd\n",
        "import matplotlib.pyplot as plt\n",
        "import seaborn as sns\n",
        "from sklearn.model_selection import train_test_split, GridSearchCV\n",
        "from sklearn.feature_extraction.text import CountVectorizer, TfidfVectorizer\n",
        "from sklearn.svm import SVC\n",
        "from sklearn.tree import DecisionTreeClassifier\n",
        "from sklearn.metrics import (accuracy_score,precision_recall_fscore_support,classification_report,confusion_matrix,RocCurveDisplay)"
      ],
      "metadata": {
        "id": "qMEVqD-Qubnb"
      },
      "execution_count": 21,
      "outputs": []
    },
    {
      "cell_type": "code",
      "source": [
        "#NLP imports\n",
        "import nltk\n",
        "from nltk.corpus import stopwords\n",
        "from nltk.stem import PorterStemmer, SnowballStemmer, LancasterStemmer, WordNetLemmatizer\n",
        "nltk.download(\"stopwords\")\n",
        "nltk.download(\"wordnet\")\n",
        "nltk.download(\"omw-1.4\")\n",
        "CONFIG = {\n",
        "    \"seed\": 42,\n",
        "    \"test_size\": 0.2,                 #part of train set we will use for validation\n",
        "    \"tfidf_max_features\": 25_000,     #vocabulary size (speed vs. accuracy)\n",
        "    \"export_predictions\": \"Chekwube_Ononuju_test_R11872197.csv\",  #output file name\n",
        "}\n",
        "np.random.seed(CONFIG[\"seed\"])\n",
        "os.makedirs(\"figures\", exist_ok=True)  #for plots"
      ],
      "metadata": {
        "colab": {
          "base_uri": "https://localhost:8080/"
        },
        "id": "JD1YQMsfubvv",
        "outputId": "3cf484d8-a5c1-4757-92ed-f5421050442a"
      },
      "execution_count": 39,
      "outputs": [
        {
          "output_type": "stream",
          "name": "stderr",
          "text": [
            "[nltk_data] Downloading package stopwords to /root/nltk_data...\n",
            "[nltk_data]   Package stopwords is already up-to-date!\n",
            "[nltk_data] Downloading package wordnet to /root/nltk_data...\n",
            "[nltk_data]   Package wordnet is already up-to-date!\n",
            "[nltk_data] Downloading package omw-1.4 to /root/nltk_data...\n",
            "[nltk_data]   Package omw-1.4 is already up-to-date!\n"
          ]
        }
      ]
    },
    {
      "cell_type": "code",
      "source": [
        "\n",
        "#Assignment Task 1 - data loading and exploring\n",
        "from google.colab import drive\n",
        "drive.mount('/content/drive')\n",
        "\n",
        "def load_data(train_path=\"/content/drive/MyDrive/AI_vs_huam_train_dataset (2).xlsx\", test_path=\"/content/drive/MyDrive/Final_test_data (1).csv\"):\n",
        "    train_df = pd.read_excel(train_path)\n",
        "    test_df  = pd.read_csv(test_path)\n",
        "    return train_df, test_df\n",
        "def explore_data(df: pd.DataFrame):\n",
        "    print(f\"Total samples      : {len(df):,}\")\n",
        "    label_counts = df[\"label\"].value_counts().sort_index()\n",
        "    print(\"Class distribution :\")\n",
        "    for lbl, cnt in label_counts.items():\n",
        "        print(f\"  ▸ {lbl} → {cnt:,} ({cnt/len(df):.1%})\")\n",
        "    #bar plot for class balance\n",
        "    plt.figure()\n",
        "    sns.countplot(x=\"label\", data=df, palette=\"Set2\")\n",
        "    plt.title(\"Class distribution (Human=0, AI=1)\")\n",
        "    plt.xlabel(\"Label\")\n",
        "    plt.ylabel(\"Count\")\n",
        "    plt.savefig(\"figures/class_distribution.png\", dpi=300, bbox_inches=\"tight\")\n",
        "    plt.close()\n",
        "    print(\"➤ Saved plot → figures/class_distribution.png\")"
      ],
      "metadata": {
        "colab": {
          "base_uri": "https://localhost:8080/"
        },
        "id": "QyR1-8vFubyU",
        "outputId": "09a675c8-cf84-48ff-a8b8-8f930e5a914a"
      },
      "execution_count": 23,
      "outputs": [
        {
          "output_type": "stream",
          "name": "stdout",
          "text": [
            "Drive already mounted at /content/drive; to attempt to forcibly remount, call drive.mount(\"/content/drive\", force_remount=True).\n"
          ]
        }
      ]
    },
    {
      "cell_type": "code",
      "source": [
        "#Assignment Task 2- text preprocessing\n",
        "\n",
        "STOP_WORDS = set(stopwords.words(\"english\"))\n",
        "def remove_stop_words(text: str, stop_words=STOP_WORDS):\n",
        "    tokens = [w for w in text.split() if w.lower() not in stop_words]\n",
        "    return \" \".join(tokens)\n",
        "PORTER     = PorterStemmer()\n",
        "SNOWBALL   = SnowballStemmer(\"english\")\n",
        "LANCASTER  = LancasterStemmer()\n",
        "LEMMATISER = WordNetLemmatizer()\n",
        "def preprocess_series(text_series: pd.Series):\n",
        "    \"\"\"Apply lower-casing + stop-word removal.\"\"\"\n",
        "    return text_series.str.lower().apply(remove_stop_words)"
      ],
      "metadata": {
        "id": "kUhyti3xub07"
      },
      "execution_count": 24,
      "outputs": []
    },
    {
      "cell_type": "code",
      "source": [
        "#Assignment Task 3 - feature extraction\n",
        "def make_vectorisers(max_features=CONFIG[\"tfidf_max_features\"]):\n",
        "    tfidf = TfidfVectorizer(ngram_range=(1,3), max_features=max_features, min_df=2, max_df=0.9)\n",
        "    bow   = CountVectorizer(ngram_range=(1,3), max_features=max_features, min_df=2, max_df=0.9)\n",
        "    return tfidf, bow"
      ],
      "metadata": {
        "id": "eoLpcvMRub3Q"
      },
      "execution_count": 25,
      "outputs": []
    },
    {
      "cell_type": "code",
      "source": [
        "#Task 4-model training & hyper parameter tuning\n",
        "\n",
        "def tune_svm(X_train, y_train):\n",
        "    grid = GridSearchCV(SVC(probability=True),{\"C\":[0.1,1,10], \"kernel\":[\"linear\",\"rbf\"]},cv=5, n_jobs=-1, scoring=\"accuracy\")\n",
        "    grid.fit(X_train, y_train)\n",
        "    print(\"Best SVM params:\", grid.best_params_)\n",
        "    return grid.best_estimator_\n",
        "def tune_decision_tree(X_train, y_train):\n",
        "    param_grid = {\"criterion\": [\"gini\",\"entropy\"],\"max_depth\": [None,10,20,30],\"min_samples_split\": [2,10,20],\"min_samples_leaf\": [1,5,10]}\n",
        "    grid = GridSearchCV(DecisionTreeClassifier(random_state=CONFIG[\"seed\"]),param_grid, cv=5, n_jobs=-1, scoring=\"accuracy\")\n",
        "    grid.fit(X_train, y_train)\n",
        "    print(\"Best DT params:\", grid.best_params_)\n",
        "    return grid.best_estimator_"
      ],
      "metadata": {
        "id": "FwVMmko0ub54"
      },
      "execution_count": 26,
      "outputs": []
    },
    {
      "cell_type": "code",
      "source": [
        "#Task 5- evaluating\n",
        "def evaluate(model, X_val, y_val, name=\"Model\"):\n",
        "    y_pred = model.predict(X_val)\n",
        "    acc = accuracy_score(y_val, y_pred)\n",
        "    pr, rc, f1, _ = precision_recall_fscore_support(y_val, y_pred, average=\"weighted\")\n",
        "    print(f\"{name} — Acc:{acc:.3f}  Prec:{pr:.3f}  Rec:{rc:.3f}  F1:{f1:.3f}\")\n",
        "    cm = confusion_matrix(y_val, y_pred)\n",
        "    sns.heatmap(cm, annot=True, fmt=\"d\", cmap=\"Blues\")\n",
        "    plt.title(f\"Confusion Matrix — {name}\")\n",
        "    plt.show()\n",
        "    return f1"
      ],
      "metadata": {
        "id": "_QE0-rCtub8f"
      },
      "execution_count": 27,
      "outputs": []
    },
    {
      "cell_type": "code",
      "source": [
        "if __name__ == \"__main__\":\n",
        "    train_df, test_df = load_data()\n",
        "    explore_data(train_df)"
      ],
      "metadata": {
        "colab": {
          "base_uri": "https://localhost:8080/"
        },
        "id": "4L_tHjseub-0",
        "outputId": "fada8901-8356-43d3-9507-0f66b4de49df"
      },
      "execution_count": 28,
      "outputs": [
        {
          "output_type": "stream",
          "name": "stdout",
          "text": [
            "Total samples      : 3,728\n",
            "Class distribution :\n",
            "  ▸ 0 → 1,864 (50.0%)\n",
            "  ▸ 1 → 1,864 (50.0%)\n",
            "➤ Saved plot → figures/class_distribution.png\n"
          ]
        }
      ]
    },
    {
      "cell_type": "code",
      "source": [
        "# clean text\n",
        "train_df[\"essay\"] = preprocess_series(train_df[\"essay\"])\n",
        "test_df[\"essay\"]  = preprocess_series(test_df[\"essay\"])\n"
      ],
      "metadata": {
        "id": "5InFgRG6ucBK"
      },
      "execution_count": 29,
      "outputs": []
    },
    {
      "cell_type": "code",
      "source": [
        "# vectorise\n",
        "tfidf_vec, _ = make_vectorisers()\n",
        "X = tfidf_vec.fit_transform(train_df[\"essay\"])\n",
        "y = train_df[\"label\"].values"
      ],
      "metadata": {
        "id": "kUFsacmFucDP"
      },
      "execution_count": 30,
      "outputs": []
    },
    {
      "cell_type": "code",
      "source": [
        "#split\n",
        "X_train, X_val, y_train, y_val = train_test_split(X, y, test_size=CONFIG[\"test_size\"], random_state=CONFIG[\"seed\"], stratify=y)"
      ],
      "metadata": {
        "id": "9o5UCCmGvmL1"
      },
      "execution_count": 31,
      "outputs": []
    },
    {
      "cell_type": "code",
      "source": [
        "#train models\n",
        "svm = tune_svm(X_train, y_train)\n",
        "dt  = tune_decision_tree(X_train, y_train)"
      ],
      "metadata": {
        "colab": {
          "base_uri": "https://localhost:8080/"
        },
        "id": "y_S8Uum5vmT5",
        "outputId": "713d8f74-47ea-45fb-eda1-d2f7db8ddf7b"
      },
      "execution_count": 32,
      "outputs": [
        {
          "output_type": "stream",
          "name": "stdout",
          "text": [
            "Best SVM params: {'C': 10, 'kernel': 'linear'}\n",
            "Best DT params: {'criterion': 'entropy', 'max_depth': 10, 'min_samples_leaf': 1, 'min_samples_split': 2}\n"
          ]
        }
      ]
    },
    {
      "cell_type": "code",
      "source": [
        "#evaluate\n",
        "f1_svm = evaluate(svm, X_val, y_val, \"SVM\")\n",
        "f1_dt  = evaluate(dt,  X_val, y_val, \"DecisionTree\")"
      ],
      "metadata": {
        "colab": {
          "base_uri": "https://localhost:8080/",
          "height": 923
        },
        "id": "rOPXvWkRvmY1",
        "outputId": "7f5b4eb1-7918-4005-e8de-00dcc7b2aef0"
      },
      "execution_count": 33,
      "outputs": [
        {
          "output_type": "stream",
          "name": "stdout",
          "text": [
            "SVM — Acc:0.981  Prec:0.981  Rec:0.981  F1:0.981\n"
          ]
        },
        {
          "output_type": "display_data",
          "data": {
            "text/plain": [
              "<Figure size 640x480 with 2 Axes>"
            ],
            "image/png": "[encoded data removed]"
          },
          "metadata": {}
        },
        {
          "output_type": "stream",
          "name": "stdout",
          "text": [
            "DecisionTree — Acc:0.936  Prec:0.936  Rec:0.936  F1:0.936\n"
          ]
        },
        {
          "output_type": "display_data",
          "data": {
            "text/plain": [
              "<Figure size 640x480 with 2 Axes>"
            ],
            "image/png": "[encoded data removed]"
          },
          "metadata": {}
        }
      ]
    },
    {
      "cell_type": "code",
      "source": [
        "#choose best\n",
        "best = svm if f1_svm >= f1_dt else dt\n",
        "print(f\"Using {'SVM' if best is svm else 'Decision Tree'} for final training.\")"
      ],
      "metadata": {
        "colab": {
          "base_uri": "https://localhost:8080/"
        },
        "id": "LhjIxxaXvmbJ",
        "outputId": "5605955c-c5b7-46fe-9241-ac0c19e838e2"
      },
      "execution_count": 34,
      "outputs": [
        {
          "output_type": "stream",
          "name": "stdout",
          "text": [
            "Using SVM for final training.\n"
          ]
        }
      ]
    },
    {
      "cell_type": "code",
      "source": [
        "#retrain on full data\n",
        "best.fit(X, y)\n",
        "joblib.dump(best, \"best_model.joblib\")\n",
        "joblib.dump(tfidf_vec, \"tfidf_vectoriser.joblib\")"
      ],
      "metadata": {
        "colab": {
          "base_uri": "https://localhost:8080/"
        },
        "id": "GIo2Bg9svmdw",
        "outputId": "1b09e368-8852-44df-c7eb-9130344ba5af"
      },
      "execution_count": 35,
      "outputs": [
        {
          "output_type": "execute_result",
          "data": {
            "text/plain": [
              "['tfidf_vectoriser.joblib']"
            ]
          },
          "metadata": {},
          "execution_count": 35
        }
      ]
    },
    {
      "cell_type": "code",
      "source": [
        "#predict on test\n",
        "X_test = tfidf_vec.transform(test_df[\"essay\"])\n",
        "preds = best.predict(X_test)\n",
        "output = pd.DataFrame({\"essay_id\": test_df.get(\"essay_id\", test_df.index),\"predicted_label\": preds})"
      ],
      "metadata": {
        "id": "BUpRSi9TvmgX"
      },
      "execution_count": null,
      "outputs": []
    },
    {
      "cell_type": "code",
      "source": [
        "output.to_csv(CONFIG[\"export_predictions\"], index=False)\n",
        "print(f\"\\nPrediction file created → {CONFIG['export_predictions']}\")"
      ],
      "metadata": {
        "colab": {
          "base_uri": "https://localhost:8080/"
        },
        "id": "CbC43OjRvmit",
        "outputId": "42569ca8-20b8-47c1-bd7c-cd1370983333"
      },
      "execution_count": 43,
      "outputs": [
        {
          "output_type": "stream",
          "name": "stdout",
          "text": [
            "\n",
            "Prediction file created → Chekwube_Ononuju_test_R11872197.csv\n"
          ]
        }
      ]
    }
  ]
}